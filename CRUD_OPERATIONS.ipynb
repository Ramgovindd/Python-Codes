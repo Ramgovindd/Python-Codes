{
 "cells": [
  {
   "cell_type": "code",
   "execution_count": 1,
   "id": "568b593d",
   "metadata": {},
   "outputs": [
    {
     "name": "stdout",
     "output_type": "stream",
     "text": [
      "<mysql.connector.connection.MySQLConnection object at 0x0000026C6167F2C8>\n"
     ]
    }
   ],
   "source": [
    "#establish the connection between Python and MySQL\n",
    "import mysql.connector as sql\n",
    "\n",
    "connection=sql.connect(host=\"localhost\",user=\"root\",password=\"aashu\")\n",
    "\n",
    "print(connection) #gives the memory address of the established connection"
   ]
  },
  {
   "cell_type": "code",
   "execution_count": 2,
   "id": "68701214",
   "metadata": {},
   "outputs": [],
   "source": [
    "#creating the database\n",
    "\n",
    "cursor=connection.cursor() #cursor allows us to execute the queries of MySQL in Python\n",
    "\n",
    "cursor.execute(\"CREATE DATABASE prognoz_database\") #query of MySQL"
   ]
  },
  {
   "cell_type": "code",
   "execution_count": 3,
   "id": "08efd964",
   "metadata": {},
   "outputs": [],
   "source": [
    "#entering into the database created\n",
    "\n",
    "connection=sql.connect(host=\"localhost\",user=\"root\",password=\"aashu\", database=\"prognoz_database\")"
   ]
  },
  {
   "cell_type": "code",
   "execution_count": 4,
   "id": "05095004",
   "metadata": {},
   "outputs": [],
   "source": [
    "#creating tables inside the database created\n",
    "\n",
    "cursor=connection.cursor() \n",
    "\n",
    "cursor.execute(\"CREATE TABLE data_students(name varchar(20),subject varchar(20), marks int)\")\n"
   ]
  },
  {
   "cell_type": "code",
   "execution_count": 5,
   "id": "8ac22071",
   "metadata": {},
   "outputs": [],
   "source": [
    "#inserting records inside the table\n",
    "\n",
    "query=\"INSERT INTO data_students(name, subject, marks) VALUES (%s,%s,%s)\" #%s is going to act as placeholder\n",
    "\n",
    "values=[('John','statistics',78),\n",
    "        ('Meera','deep learning', 93),\n",
    "        ('George', 'machine learning',88),\n",
    "        ('Muskan','computer vision',70)]\n",
    "\n",
    "cursor.executemany(query, values)"
   ]
  },
  {
   "cell_type": "code",
   "execution_count": 6,
   "id": "1aae2980",
   "metadata": {},
   "outputs": [],
   "source": [
    "connection.commit() #saves the changes made since the last checkpoint"
   ]
  },
  {
   "cell_type": "code",
   "execution_count": 7,
   "id": "0dce92b6",
   "metadata": {},
   "outputs": [],
   "source": [
    "#update records \n",
    "\n",
    "cursor=connection.cursor()\n",
    "\n",
    "query=\"update data_students set name='Michel' where subject='machine learning'\"\n",
    "\n",
    "cursor.execute(query)\n",
    "\n",
    "connection.commit()"
   ]
  },
  {
   "cell_type": "code",
   "execution_count": 8,
   "id": "dd793e2e",
   "metadata": {},
   "outputs": [],
   "source": [
    "cursor=connection.cursor()\n",
    "\n",
    "query=\"update data_students set name='Tyler' where subject = 'statistics'\"\n",
    "\n",
    "cursor.execute(query)\n",
    "\n",
    "connection.commit()"
   ]
  },
  {
   "cell_type": "code",
   "execution_count": 11,
   "id": "6d8a76ad",
   "metadata": {},
   "outputs": [],
   "source": [
    "#delete a record from table\n",
    "\n",
    "cursor=connection.cursor()\n",
    "\n",
    "query=\" delete from data_students where name='Muskan'\" \n",
    "\n",
    "cursor.execute(query)\n",
    "\n",
    "connection.commit()"
   ]
  },
  {
   "cell_type": "code",
   "execution_count": 12,
   "id": "446fd368",
   "metadata": {},
   "outputs": [],
   "source": [
    "#drop the table\n",
    "\n",
    "cursor=connection.cursor()\n",
    "\n",
    "query=\"drop table data_students\" \n",
    "\n",
    "cursor.execute(query)\n",
    "\n",
    "connection.commit()"
   ]
  },
  {
   "cell_type": "code",
   "execution_count": null,
   "id": "db60b218",
   "metadata": {},
   "outputs": [],
   "source": []
  }
 ],
 "metadata": {
  "kernelspec": {
   "display_name": "Python 3 (ipykernel)",
   "language": "python",
   "name": "python3"
  },
  "language_info": {
   "codemirror_mode": {
    "name": "ipython",
    "version": 3
   },
   "file_extension": ".py",
   "mimetype": "text/x-python",
   "name": "python",
   "nbconvert_exporter": "python",
   "pygments_lexer": "ipython3",
   "version": "3.7.11"
  }
 },
 "nbformat": 4,
 "nbformat_minor": 5
}
