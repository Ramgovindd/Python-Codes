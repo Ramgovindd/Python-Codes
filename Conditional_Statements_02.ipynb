{
  "nbformat": 4,
  "nbformat_minor": 0,
  "metadata": {
    "colab": {
      "name": "Conditional_Statements_02.ipynb",
      "provenance": []
    },
    "kernelspec": {
      "name": "python3",
      "display_name": "Python 3"
    },
    "language_info": {
      "name": "python"
    }
  },
  "cells": [
    {
      "cell_type": "markdown",
      "metadata": {
        "id": "24v4VjDHEc42"
      },
      "source": [
        "In a fare, the entry fee of children less than 4 years of age is 0 INR, the fee for children in the age group of 5-18 years is 100 INR and for people more than 18 years of age, the fee is 175 INR. \n",
        "\n",
        "Take age as input and display the entry fee of the person."
      ]
    },
    {
      "cell_type": "code",
      "metadata": {
        "colab": {
          "base_uri": "https://localhost:8080/"
        },
        "id": "EAQ8Z6afDP7Q",
        "outputId": "13d0f63d-9d2e-4b3d-9025-718b5e20764b"
      },
      "source": [
        "age=int(input(\"enter your age\"))\n",
        "\n",
        "if age<4:\n",
        "  print(\"entry is free\")\n",
        "\n",
        "elif 5<age<18:\n",
        "  print(\"entry fee is 100 INR\")\n",
        "\n",
        "else:\n",
        "  print(\"entry fee is 175 INR\")"
      ],
      "execution_count": 4,
      "outputs": [
        {
          "output_type": "stream",
          "text": [
            "enter your age25\n",
            "entry fee is 175 INR\n"
          ],
          "name": "stdout"
        }
      ]
    },
    {
      "cell_type": "markdown",
      "metadata": {
        "id": "deCmDnLcHVYs"
      },
      "source": [
        "NESTED IF STATEMENTS"
      ]
    },
    {
      "cell_type": "markdown",
      "metadata": {
        "id": "Q81AFNxOKQCL"
      },
      "source": [
        "Take a number as input from the user and see if it is less than 10 or more than 10. In case it is more than 10, check if it is more than 20 also or not"
      ]
    },
    {
      "cell_type": "code",
      "metadata": {
        "colab": {
          "base_uri": "https://localhost:8080/"
        },
        "id": "8A4K7k-EGyMZ",
        "outputId": "ea3a5b1d-a5c1-4ad0-e274-3be8f6811945"
      },
      "source": [
        "x=int(input(\"enter value for x\"))\n",
        "\n",
        "if x>=10:\n",
        "\n",
        "  if x>=20:\n",
        "    print(\"x is greater than 20 or equal to 20\")\n",
        "\n",
        "  else:\n",
        "    print(\"x is less than 20 but greater than 10\")\n",
        "\n",
        "else:\n",
        "  print(\"x is less than 10\")"
      ],
      "execution_count": 7,
      "outputs": [
        {
          "output_type": "stream",
          "text": [
            "enter value for x25\n",
            "x is greater than 20 or equal to 20\n"
          ],
          "name": "stdout"
        }
      ]
    },
    {
      "cell_type": "markdown",
      "metadata": {
        "id": "ZVG7k0sALvzm"
      },
      "source": [
        "Take a number as input from the user and find if it is positive or negative or zero"
      ]
    },
    {
      "cell_type": "code",
      "metadata": {
        "colab": {
          "base_uri": "https://localhost:8080/"
        },
        "id": "3DjxJYGDKsBR",
        "outputId": "c2862843-a95a-4318-b44e-de0e2d2e2bf2"
      },
      "source": [
        "#nested if \n",
        "x=int(input(\"enter a number\"))\n",
        "\n",
        "if x>=0: #x can either be 0 or can be greater than 0\n",
        "\n",
        "  if x>0:\n",
        "    print(\"x is positive\")\n",
        "  else:\n",
        "    print(\"x is 0\")\n",
        "\n",
        "else:\n",
        "  print(\"x is negative\")"
      ],
      "execution_count": 10,
      "outputs": [
        {
          "output_type": "stream",
          "text": [
            "enter a number-5\n",
            "x is negative\n"
          ],
          "name": "stdout"
        }
      ]
    },
    {
      "cell_type": "code",
      "metadata": {
        "id": "dNlQan9VQQOE"
      },
      "source": [
        "x=int(input(\"enter a number\"))\n",
        "\n",
        "if x<0:\n",
        "  print(\"x is negative\")\n",
        "\n",
        "else:\n",
        "\n",
        "  if x>0:\n",
        "    print(\"x is positive\")\n",
        "\n",
        "  else:\n",
        "    print(\"x is 0\")"
      ],
      "execution_count": null,
      "outputs": []
    },
    {
      "cell_type": "code",
      "metadata": {
        "colab": {
          "base_uri": "https://localhost:8080/"
        },
        "id": "D5dA9ydaL77g",
        "outputId": "513e1ce7-0dc5-4c4b-e1ee-95a23591532e"
      },
      "source": [
        "#elif statement\n",
        "x=int(input(\"enter a number\"))\n",
        "\n",
        "if x>0:\n",
        "  print(\"x is positive\")\n",
        "\n",
        "elif x==0:\n",
        "  print(\"x is 0\")\n",
        "\n",
        "else:\n",
        "  print(\"x is negative\")"
      ],
      "execution_count": 13,
      "outputs": [
        {
          "output_type": "stream",
          "text": [
            "enter a number-4\n",
            "x is negative\n"
          ],
          "name": "stdout"
        }
      ]
    },
    {
      "cell_type": "markdown",
      "metadata": {
        "id": "3DXYTc-5RKYo"
      },
      "source": [
        "LOGICAL OPERATORS\n",
        "\n",
        "1. AND\n",
        "\n",
        "2. OR"
      ]
    },
    {
      "cell_type": "code",
      "metadata": {
        "colab": {
          "base_uri": "https://localhost:8080/"
        },
        "id": "4-a98SpZQ8eC",
        "outputId": "a446aea3-fb39-46f1-aa57-bcbd458c6836"
      },
      "source": [
        "#AND Operator\n",
        "\n",
        "a=int(input(\"enter value for a\"))\n",
        "b=int(input(\"enter value for b\"))\n",
        "c=int(input(\"enter value for c\"))\n",
        "\n",
        "if a>b and c>a:\n",
        "  print(\"both the conditions are true\")\n",
        "\n",
        "else:\n",
        "  print(\"either one or both the conditions are false\")"
      ],
      "execution_count": 15,
      "outputs": [
        {
          "output_type": "stream",
          "text": [
            "enter value for a15\n",
            "enter value for b10\n",
            "enter value for c5\n",
            "either one or both the conditions are false\n"
          ],
          "name": "stdout"
        }
      ]
    },
    {
      "cell_type": "code",
      "metadata": {
        "colab": {
          "base_uri": "https://localhost:8080/"
        },
        "id": "cfJD4_QyTLQA",
        "outputId": "5838409e-166c-4e3a-8beb-5079be3d3ae0"
      },
      "source": [
        "#OR Operator\n",
        "\n",
        "a=int(input(\"enter value for a\"))\n",
        "b=int(input(\"enter value for b\"))\n",
        "c=int(input(\"enter value for c\"))\n",
        "\n",
        "if a>b or c>a:\n",
        "  print(\"either one or both the conditions are true\")\n",
        "\n",
        "else:\n",
        "  print(\"both the conditions are false\")"
      ],
      "execution_count": 17,
      "outputs": [
        {
          "output_type": "stream",
          "text": [
            "enter value for a15\n",
            "enter value for b25\n",
            "enter value for c5\n",
            "both the conditions are false\n"
          ],
          "name": "stdout"
        }
      ]
    },
    {
      "cell_type": "markdown",
      "metadata": {
        "id": "0T9Jhe1WT8AP"
      },
      "source": [
        "Take three numbers as input from the user and find which of them is the largest"
      ]
    },
    {
      "cell_type": "code",
      "metadata": {
        "colab": {
          "base_uri": "https://localhost:8080/"
        },
        "id": "dzGKfNxETmey",
        "outputId": "d8cfc689-90b0-4eb5-c5e7-3dc484a2d979"
      },
      "source": [
        "a=int(input(\"enter value for a\"))\n",
        "b=int(input(\"enter value for b\"))\n",
        "c=int(input(\"enter value for c\"))\n",
        "\n",
        "if a>b and a>c:\n",
        "  print(\"a is largest\")\n",
        "\n",
        "elif b>a and b>c:\n",
        "  print(\"b is largest\")\n",
        "\n",
        "else:\n",
        "  print(\"c is largest\")"
      ],
      "execution_count": 20,
      "outputs": [
        {
          "output_type": "stream",
          "text": [
            "enter value for a12\n",
            "enter value for b22\n",
            "enter value for c32\n",
            "c is largest\n"
          ],
          "name": "stdout"
        }
      ]
    },
    {
      "cell_type": "code",
      "metadata": {
        "id": "UcAvHIuvUSqf"
      },
      "source": [
        ""
      ],
      "execution_count": null,
      "outputs": []
    }
  ]
}