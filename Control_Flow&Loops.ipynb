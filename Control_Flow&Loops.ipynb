{
  "nbformat": 4,
  "nbformat_minor": 0,
  "metadata": {
    "colab": {
      "name": "Control_Flow&Loops.ipynb",
      "provenance": []
    },
    "kernelspec": {
      "name": "python3",
      "display_name": "Python 3"
    }
  },
  "cells": [
    {
      "cell_type": "markdown",
      "metadata": {
        "id": "qaJ1GqOgcyz-"
      },
      "source": [
        "Write a Python program that accepts a word from \n",
        "the user and reverse it"
      ]
    },
    {
      "cell_type": "code",
      "metadata": {
        "colab": {
          "base_uri": "https://localhost:8080/"
        },
        "id": "7pfhdXbSLbmM",
        "outputId": "96d9e596-e9e8-4c33-ea37-9cf9599ac833"
      },
      "source": [
        "word=str(input('enter your word'))\n",
        "print(' word in reverse ', word[::-1])\n"
      ],
      "execution_count": null,
      "outputs": [
        {
          "output_type": "stream",
          "text": [
            "enter your wordindia\n",
            " word in reverse  aidni\n"
          ],
          "name": "stdout"
        }
      ]
    },
    {
      "cell_type": "markdown",
      "metadata": {
        "id": "EIXDAiU2ebIS"
      },
      "source": [
        " Write a Python program to count the number of even and odd numbers from a tuple of numbers. "
      ]
    },
    {
      "cell_type": "code",
      "metadata": {
        "colab": {
          "base_uri": "https://localhost:8080/"
        },
        "id": "yofWLY0YeqxB",
        "outputId": "6f4dc42e-f05a-46c6-a682-8917f29b95d2"
      },
      "source": [
        "numbers = (1, 2, 3, 4, 5, 6, 7, 8, 9) # Declaring the tuple\n",
        "count_odd = 0\n",
        "count_even = 0\n",
        "for x in numbers:\n",
        "        if x%2==0:\n",
        "    \t     count_even+=1 #count_even=count_even+1\n",
        "        else:\n",
        "    \t     count_odd+=1 #count_odd=count_odd+1\n",
        "print(\"Number of even numbers :\",count_even)\n",
        "print(\"Number of odd numbers :\",count_odd)"
      ],
      "execution_count": null,
      "outputs": [
        {
          "output_type": "stream",
          "text": [
            "Number of even numbers : 4\n",
            "Number of odd numbers : 5\n"
          ],
          "name": "stdout"
        }
      ]
    },
    {
      "cell_type": "markdown",
      "metadata": {
        "id": "B-PW_r4Hw5vK"
      },
      "source": [
        "Write a Python program that accepts a string and calculate the number of digits \n",
        "and letters."
      ]
    },
    {
      "cell_type": "code",
      "metadata": {
        "colab": {
          "base_uri": "https://localhost:8080/"
        },
        "id": "c_cGB9x_w6L-",
        "outputId": "4226c6de-5b4b-47de-dead-c6a1b24d8c57"
      },
      "source": [
        "s = input(\"Input a string\")\n",
        "d=0\n",
        "l=0\n",
        "for c in s:\n",
        "    if c.isdigit():\n",
        "        d=d+1\n",
        "    elif c.isalpha():\n",
        "        l=l+1\n",
        "    else:\n",
        "        pass\n",
        "print(\"Letters\", l)\n",
        "print(\"Digits\", d)"
      ],
      "execution_count": null,
      "outputs": [
        {
          "output_type": "stream",
          "text": [
            "Input a stringaashu\n",
            "Letters 5\n",
            "Digits 0\n"
          ],
          "name": "stdout"
        }
      ]
    },
    {
      "cell_type": "markdown",
      "metadata": {
        "id": "NbISZ22pyRqR"
      },
      "source": [
        "Write a Python program to check whether an alphabet is a vowel or consonant."
      ]
    },
    {
      "cell_type": "code",
      "metadata": {
        "colab": {
          "base_uri": "https://localhost:8080/"
        },
        "id": "kR0PyQOcyLre",
        "outputId": "3802d8a6-fa77-4d34-9ca0-553b8387d6fc"
      },
      "source": [
        "l = input(\"Input a letter of the alphabet: \")\n",
        "\n",
        "if l in ('a', 'e', 'i', 'o', 'u'):\n",
        "\tprint(\"l is a vowel\")\n",
        "elif l == 'y':\n",
        "\tprint(\"Sometimes letter y stand for vowel, sometimes stand for consonant.\")\n",
        "else:\n",
        "\tprint(\"l is not a vowel\") "
      ],
      "execution_count": null,
      "outputs": [
        {
          "output_type": "stream",
          "text": [
            "Input a letter of the alphabet: z\n",
            "l is not a vowel\n"
          ],
          "name": "stdout"
        }
      ]
    },
    {
      "cell_type": "markdown",
      "metadata": {
        "id": "8aVG5Lfcy1MB"
      },
      "source": [
        "Write a Python program to convert month name to a number of days."
      ]
    },
    {
      "cell_type": "code",
      "metadata": {
        "colab": {
          "base_uri": "https://localhost:8080/"
        },
        "id": "RpsGrS26yfto",
        "outputId": "a16d588c-da30-413f-ff4c-9a549310da43"
      },
      "source": [
        "month_name = input(\"Input the name of Month: \")\n",
        "\n",
        "if month_name == \"February\":\n",
        "\tprint(\"No. of days: 28/29 days\")\n",
        "elif month_name in (\"April\", \"June\", \"September\", \"November\"):\n",
        "\tprint(\"No. of days: 30 days\")\n",
        "elif month_name in (\"January\", \"March\", \"May\", \"July\", \"August\", \"October\", \"December\"):\n",
        "\tprint(\"No. of days: 31 day\")\n",
        "else:\n",
        "\tprint(\"Wrong month name\") "
      ],
      "execution_count": null,
      "outputs": [
        {
          "output_type": "stream",
          "text": [
            "Input the name of Month: March\n",
            "No. of days: 31 day\n"
          ],
          "name": "stdout"
        }
      ]
    },
    {
      "cell_type": "markdown",
      "metadata": {
        "id": "jAV1jzwlzQbj"
      },
      "source": [
        "Write a Python program that reads two integers representing a month and day and prints the season for that month and day"
      ]
    },
    {
      "cell_type": "code",
      "metadata": {
        "colab": {
          "base_uri": "https://localhost:8080/"
        },
        "id": "RdGXY4fdy5-l",
        "outputId": "65640480-9f04-4baa-9204-f04fb50760d5"
      },
      "source": [
        "month = input(\"Input the month (e.g. January, February etc.): \")\n",
        "day = int(input(\"Input the day: \"))\n",
        "\n",
        "if month in ('January', 'February', 'March'):\n",
        "\tseason = 'winter'\n",
        "elif month in ('April', 'May', 'June'):\n",
        "\tseason = 'spring'\n",
        "elif month in ('July', 'August', 'September'):\n",
        "\tseason = 'summer'\n",
        "else:\n",
        "\tseason = 'autumn'\n",
        "\n",
        "if (month == 'March') and (day > 19):\n",
        "\tseason = 'spring'\n",
        "elif (month == 'June') and (day > 20):\n",
        "\tseason = 'summer'\n",
        "elif (month == 'September') and (day > 21):\n",
        "\tseason = 'autumn'\n",
        "elif (month == 'December') and (day > 20):\n",
        "\tseason = 'winter'\n",
        "\n",
        "print(\"Season is\",season)\n"
      ],
      "execution_count": null,
      "outputs": [
        {
          "output_type": "stream",
          "text": [
            "Input the month (e.g. January, February etc.): December\n",
            "Input the day: 20\n",
            "Season is autumn\n"
          ],
          "name": "stdout"
        }
      ]
    },
    {
      "cell_type": "markdown",
      "metadata": {
        "id": "dRh_EGER0Zmx"
      },
      "source": [
        "Display the cube of the number up to a given integer"
      ]
    },
    {
      "cell_type": "code",
      "metadata": {
        "colab": {
          "base_uri": "https://localhost:8080/"
        },
        "id": "K_6w3YM-zyz8",
        "outputId": "9368051e-c6c3-4397-e0c8-1305df844270"
      },
      "source": [
        "input_number = 6\n",
        "for i in range(1, input_number + 1):\n",
        "    print(\"Current Number is :\", i, \" and the cube is\", (i * i * i))"
      ],
      "execution_count": null,
      "outputs": [
        {
          "output_type": "stream",
          "text": [
            "Current Number is : 1  and the cube is 1\n",
            "Current Number is : 2  and the cube is 8\n",
            "Current Number is : 3  and the cube is 27\n",
            "Current Number is : 4  and the cube is 64\n",
            "Current Number is : 5  and the cube is 125\n",
            "Current Number is : 6  and the cube is 216\n"
          ],
          "name": "stdout"
        }
      ]
    },
    {
      "cell_type": "markdown",
      "metadata": {
        "id": "7Teh1jhB0ouB"
      },
      "source": [
        "Write a loop to find the factorial of any number\n",
        "The factorial (symbol: !) means to multiply all whole numbers from the chosen number down to 1."
      ]
    },
    {
      "cell_type": "code",
      "metadata": {
        "colab": {
          "base_uri": "https://localhost:8080/"
        },
        "id": "RT99SU7y0czf",
        "outputId": "cc1a63ba-8cc7-4db7-ce7c-c45b25021574"
      },
      "source": [
        "num = 5\n",
        "factorial = 1\n",
        "if num < 0:\n",
        "    print(\"Factorial does not exist for negative numbers\")\n",
        "elif num == 0:\n",
        "    print(\"The factorial of 0 is 1\")\n",
        "else:\n",
        "    for i in range(1, num + 1):\n",
        "        factorial = factorial * i #fac of 5 = 5*4*3*2*1\n",
        "    print(\"The factorial of\", num, \"is\", factorial)"
      ],
      "execution_count": null,
      "outputs": [
        {
          "output_type": "stream",
          "text": [
            "The factorial of 5 is 120\n"
          ],
          "name": "stdout"
        }
      ]
    },
    {
      "cell_type": "markdown",
      "metadata": {
        "id": "FbCtA5xX02fv"
      },
      "source": [
        "Write a program to display all prime numbers within a range\n",
        "Note: A Prime Number is a whole number that cannot be made by multiplying other whole numbers\n",
        "\n",
        "Examples:\n",
        "\n",
        "6 is not a Prime Number because it can be made by 2×3 = 6\n",
        "37 is a Prime Number because no other whole numbers multiply together to make it."
      ]
    },
    {
      "cell_type": "code",
      "metadata": {
        "colab": {
          "base_uri": "https://localhost:8080/"
        },
        "id": "2CDh-_yX0utc",
        "outputId": "5e105db9-00bc-421a-e9e9-c6fd7f4c0a6f"
      },
      "source": [
        "start = 25\n",
        "end = 50\n",
        "print(\"Prime numbers between\", start, \"and\", end, \"are:\")\n",
        "\n",
        "for num in range(start, end + 1):\n",
        "    # all prime numbers are greater than 1\n",
        "    # if number is less than or equal to 1, it is not prime\n",
        "    if num > 1:\n",
        "        for i in range(2, num):\n",
        "            # check for factors\n",
        "            if (num % i) == 0:\n",
        "                # not a prime number so break inner loop and\n",
        "                # look for next number\n",
        "                break\n",
        "        else:\n",
        "            print(num)"
      ],
      "execution_count": null,
      "outputs": [
        {
          "output_type": "stream",
          "text": [
            "Prime numbers between 25 and 50 are:\n",
            "29\n",
            "31\n",
            "37\n",
            "41\n",
            "43\n",
            "47\n"
          ],
          "name": "stdout"
        }
      ]
    },
    {
      "cell_type": "code",
      "metadata": {
        "id": "XqE3UDHY3uZX"
      },
      "source": [
        ""
      ],
      "execution_count": null,
      "outputs": []
    }
  ]
}