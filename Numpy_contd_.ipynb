{
  "nbformat": 4,
  "nbformat_minor": 0,
  "metadata": {
    "colab": {
      "name": "Numpy_contd..ipynb",
      "provenance": []
    },
    "kernelspec": {
      "name": "python3",
      "display_name": "Python 3"
    },
    "language_info": {
      "name": "python"
    }
  },
  "cells": [
    {
      "cell_type": "markdown",
      "metadata": {
        "id": "OYSFL7wKvQrZ"
      },
      "source": [
        "Numpy can be used to generate numbers (randomly generated numbers as well)"
      ]
    },
    {
      "cell_type": "code",
      "metadata": {
        "id": "4_cUDTQwv7k4"
      },
      "source": [
        "import numpy as np"
      ],
      "execution_count": 2,
      "outputs": []
    },
    {
      "cell_type": "markdown",
      "metadata": {
        "id": "0Lvp27xRwsgv"
      },
      "source": [
        "arange()"
      ]
    },
    {
      "cell_type": "code",
      "metadata": {
        "id": "UGctzGW3uQmS"
      },
      "source": [
        "arr=np.arange(0,10) #from 0 till 9 will be displayed having equal spaces of 1"
      ],
      "execution_count": 3,
      "outputs": []
    },
    {
      "cell_type": "code",
      "metadata": {
        "colab": {
          "base_uri": "https://localhost:8080/"
        },
        "id": "u22m6iHbv053",
        "outputId": "a8b87c23-51d6-48b4-80a8-22ddcb7b9421"
      },
      "source": [
        "print(arr)"
      ],
      "execution_count": 4,
      "outputs": [
        {
          "output_type": "stream",
          "name": "stdout",
          "text": [
            "[0 1 2 3 4 5 6 7 8 9]\n"
          ]
        }
      ]
    },
    {
      "cell_type": "code",
      "metadata": {
        "id": "gIRFqOrBv16c"
      },
      "source": [
        "arr_2=np.arange(0,20,step=2) #here the equal spaces will be of 2"
      ],
      "execution_count": 9,
      "outputs": []
    },
    {
      "cell_type": "code",
      "metadata": {
        "colab": {
          "base_uri": "https://localhost:8080/"
        },
        "id": "rvwtS69swOrM",
        "outputId": "f0d9762f-b4b6-44a1-e07c-7b5c4bd057ca"
      },
      "source": [
        "print(arr_2)"
      ],
      "execution_count": 10,
      "outputs": [
        {
          "output_type": "stream",
          "name": "stdout",
          "text": [
            "[ 0  2  4  6  8 10 12 14 16 18]\n"
          ]
        }
      ]
    },
    {
      "cell_type": "markdown",
      "metadata": {
        "id": "PASUx2Ywwub1"
      },
      "source": [
        "linspace()"
      ]
    },
    {
      "cell_type": "code",
      "metadata": {
        "colab": {
          "base_uri": "https://localhost:8080/"
        },
        "id": "OqGdjhJTwRQw",
        "outputId": "a7e929f3-1d9b-4b3e-d275-dc3ca451eb27"
      },
      "source": [
        "np.linspace(1,20,30) #here the total numbers that we will get in the given range is 60"
      ],
      "execution_count": 16,
      "outputs": [
        {
          "output_type": "execute_result",
          "data": {
            "text/plain": [
              "array([ 1.        ,  1.65517241,  2.31034483,  2.96551724,  3.62068966,\n",
              "        4.27586207,  4.93103448,  5.5862069 ,  6.24137931,  6.89655172,\n",
              "        7.55172414,  8.20689655,  8.86206897,  9.51724138, 10.17241379,\n",
              "       10.82758621, 11.48275862, 12.13793103, 12.79310345, 13.44827586,\n",
              "       14.10344828, 14.75862069, 15.4137931 , 16.06896552, 16.72413793,\n",
              "       17.37931034, 18.03448276, 18.68965517, 19.34482759, 20.        ])"
            ]
          },
          "metadata": {},
          "execution_count": 16
        }
      ]
    },
    {
      "cell_type": "markdown",
      "metadata": {
        "id": "Z2yDbXWpymeV"
      },
      "source": [
        "Generating RANDOM numbers\n",
        "\n",
        "random.rand() - gives floating point values as output\n",
        "\n",
        "\n",
        "random.randint() - gives integer values as output"
      ]
    },
    {
      "cell_type": "code",
      "metadata": {
        "colab": {
          "base_uri": "https://localhost:8080/"
        },
        "id": "7gbsmXFLxAdN",
        "outputId": "a86aa69d-7d44-4960-87f6-6cc8ae48aae3"
      },
      "source": [
        "np.random.rand(3,4) #3 denotes number of rows and 4 denotes number of columns\n",
        "#random.rand is going to give values between 0-1 (0-1 is the default range which cannot be changed)\n",
        "#output will always be floating point numbers"
      ],
      "execution_count": 31,
      "outputs": [
        {
          "output_type": "execute_result",
          "data": {
            "text/plain": [
              "array([[0.30230972, 0.71118035, 0.63119232, 0.81925524],\n",
              "       [0.68242373, 0.90324033, 0.38963587, 0.19796472],\n",
              "       [0.32924576, 0.54746712, 0.8945494 , 0.09953194]])"
            ]
          },
          "metadata": {},
          "execution_count": 31
        }
      ]
    },
    {
      "cell_type": "code",
      "metadata": {
        "colab": {
          "base_uri": "https://localhost:8080/"
        },
        "id": "1qALs0HtzJqx",
        "outputId": "216974e4-d368-4369-a670-c0bbc5cd37a0"
      },
      "source": [
        "np.random.randint(3,20,6) #6 integer numbers will be displayed between 3-20\n",
        "#here the range needs to be given by the user\n",
        "#output will always be integer numbers "
      ],
      "execution_count": 32,
      "outputs": [
        {
          "output_type": "execute_result",
          "data": {
            "text/plain": [
              "array([14,  5,  7, 19, 14, 19])"
            ]
          },
          "metadata": {},
          "execution_count": 32
        }
      ]
    },
    {
      "cell_type": "code",
      "metadata": {
        "id": "O0KZu-Fl1BgG"
      },
      "source": [
        ""
      ],
      "execution_count": null,
      "outputs": []
    }
  ]
}