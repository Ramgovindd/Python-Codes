{
  "nbformat": 4,
  "nbformat_minor": 0,
  "metadata": {
    "colab": {
      "name": "Types_of_Arguments.ipynb",
      "provenance": []
    },
    "kernelspec": {
      "name": "python3",
      "display_name": "Python 3"
    },
    "language_info": {
      "name": "python"
    }
  },
  "cells": [
    {
      "cell_type": "markdown",
      "metadata": {
        "id": "-4Jbh5mabfuq"
      },
      "source": [
        "Create a function which will take name and age of a person as input and display the name of the person"
      ]
    },
    {
      "cell_type": "code",
      "metadata": {
        "id": "nfJOzx1pWUa1"
      },
      "source": [
        "def func(name, age):\n",
        "\n",
        "  print(\"Name of the person is\",name)"
      ],
      "execution_count": 3,
      "outputs": []
    },
    {
      "cell_type": "code",
      "metadata": {
        "colab": {
          "base_uri": "https://localhost:8080/"
        },
        "id": "wrETC6-ydltd",
        "outputId": "265c94b1-f93b-4f2d-e825-f950913372f4"
      },
      "source": [
        "func('Aashutosh',28)"
      ],
      "execution_count": 4,
      "outputs": [
        {
          "output_type": "stream",
          "text": [
            "Name of the person is Aashutosh\n"
          ],
          "name": "stdout"
        }
      ]
    },
    {
      "cell_type": "markdown",
      "metadata": {
        "id": "BfXyVWwzd6BN"
      },
      "source": [
        "Create a function which takes name and salary as input. Display the salary of the person\n",
        "\n",
        "If salary of the person is not given then take 10000 as the default salary"
      ]
    },
    {
      "cell_type": "code",
      "metadata": {
        "id": "38f5hX4Odqc8"
      },
      "source": [
        "def info(name, salary=10000):\n",
        "\n",
        "  print(\"salary of the person is \",salary)"
      ],
      "execution_count": 8,
      "outputs": []
    },
    {
      "cell_type": "code",
      "metadata": {
        "colab": {
          "base_uri": "https://localhost:8080/"
        },
        "id": "UtvrVU76fYSG",
        "outputId": "09b37063-25ff-46ac-b8f5-1024d92eb2c9"
      },
      "source": [
        "info('ram',)"
      ],
      "execution_count": 9,
      "outputs": [
        {
          "output_type": "stream",
          "text": [
            "salary of the person is  10000\n"
          ],
          "name": "stdout"
        }
      ]
    },
    {
      "cell_type": "code",
      "metadata": {
        "colab": {
          "base_uri": "https://localhost:8080/"
        },
        "id": "aifc7oMffa2w",
        "outputId": "8c44354b-f462-426c-c8a8-4626443fc2fc"
      },
      "source": [
        "info('shyam',25000)"
      ],
      "execution_count": 12,
      "outputs": [
        {
          "output_type": "stream",
          "text": [
            "salary of the person is  25000\n"
          ],
          "name": "stdout"
        }
      ]
    },
    {
      "cell_type": "code",
      "metadata": {
        "id": "2N1GWDubf1xw"
      },
      "source": [
        "def data(salary=30000,name='ankesh'):\n",
        "\n",
        "  print('name of the person is ',name)"
      ],
      "execution_count": 18,
      "outputs": []
    },
    {
      "cell_type": "code",
      "metadata": {
        "colab": {
          "base_uri": "https://localhost:8080/"
        },
        "id": "xTnxJFDZgLjk",
        "outputId": "bf6537fa-c016-40fc-c3c9-6b06a12b36b7"
      },
      "source": [
        "data()"
      ],
      "execution_count": 22,
      "outputs": [
        {
          "output_type": "stream",
          "text": [
            "name of the person is  ankesh\n"
          ],
          "name": "stdout"
        }
      ]
    },
    {
      "cell_type": "markdown",
      "metadata": {
        "id": "gf7j8bxDgoff"
      },
      "source": [
        "Types of Arguments:\n",
        "\n",
        "1. Arbitrary Arguments\n",
        "2. Keyword Arguments\n",
        "3. Arbitrary Keyword Arguments"
      ]
    },
    {
      "cell_type": "code",
      "metadata": {
        "id": "5xWTN_FvgN6g"
      },
      "source": [
        "#arbitrary arguments\n",
        "\n",
        "def func(*child):\n",
        "  print(\"youngest child is\", child[2])"
      ],
      "execution_count": 23,
      "outputs": []
    },
    {
      "cell_type": "code",
      "metadata": {
        "colab": {
          "base_uri": "https://localhost:8080/"
        },
        "id": "1VlfOfyjj35e",
        "outputId": "15e7df5c-861b-49cd-d416-c7e7632922e9"
      },
      "source": [
        "func('Ram','Shyam','Meera','Raghu')"
      ],
      "execution_count": 24,
      "outputs": [
        {
          "output_type": "stream",
          "text": [
            "youngest child is Meera\n"
          ],
          "name": "stdout"
        }
      ]
    },
    {
      "cell_type": "code",
      "metadata": {
        "colab": {
          "base_uri": "https://localhost:8080/"
        },
        "id": "3x5tRBGhj-_s",
        "outputId": "45731c1a-0af5-410d-db0d-20ee5528d353"
      },
      "source": [
        "func('Michel','George','Mike')"
      ],
      "execution_count": 25,
      "outputs": [
        {
          "output_type": "stream",
          "text": [
            "youngest child is Mike\n"
          ],
          "name": "stdout"
        }
      ]
    },
    {
      "cell_type": "code",
      "metadata": {
        "colab": {
          "base_uri": "https://localhost:8080/"
        },
        "id": "neixhBetkEHS",
        "outputId": "2a516218-9865-467e-8639-c894e5dc3661"
      },
      "source": [
        "func('Ram','Shyam','Meera','Raghu','Michel','George','Mike')"
      ],
      "execution_count": 26,
      "outputs": [
        {
          "output_type": "stream",
          "text": [
            "youngest child is Meera\n"
          ],
          "name": "stdout"
        }
      ]
    },
    {
      "cell_type": "code",
      "metadata": {
        "id": "HdIeRJOBkKCq"
      },
      "source": [
        "#keyword arguments\n",
        "\n",
        "def func_2(child3,child1,child2):\n",
        "\n",
        "  print(\"Youngest child is\", child3)"
      ],
      "execution_count": 27,
      "outputs": []
    },
    {
      "cell_type": "code",
      "metadata": {
        "colab": {
          "base_uri": "https://localhost:8080/"
        },
        "id": "YJlM7OvcmkDm",
        "outputId": "3fc6e16a-3b0d-4f26-ba66-c304e3a1795e"
      },
      "source": [
        "func_2(child1='Ram',child2='Shyam',child3='Govind')"
      ],
      "execution_count": 28,
      "outputs": [
        {
          "output_type": "stream",
          "text": [
            "Youngest child is Govind\n"
          ],
          "name": "stdout"
        }
      ]
    },
    {
      "cell_type": "code",
      "metadata": {
        "id": "LaCHnBUImtco"
      },
      "source": [
        "#Arbitrary Keyword Arguments\n",
        "\n",
        "def func_3(**names):\n",
        "  print(\"His last name is\",names['lname'])"
      ],
      "execution_count": 29,
      "outputs": []
    },
    {
      "cell_type": "code",
      "metadata": {
        "colab": {
          "base_uri": "https://localhost:8080/"
        },
        "id": "x9qrVTXSqgoN",
        "outputId": "dd19e01f-8004-478b-e1ee-69c00178ed02"
      },
      "source": [
        "func_3(fname='Aashutosh',lname='Mishra')"
      ],
      "execution_count": 31,
      "outputs": [
        {
          "output_type": "stream",
          "text": [
            "His last name is Mishra\n"
          ],
          "name": "stdout"
        }
      ]
    },
    {
      "cell_type": "code",
      "metadata": {
        "id": "hAYPEm-0qo4G"
      },
      "source": [
        ""
      ],
      "execution_count": null,
      "outputs": []
    }
  ]
}