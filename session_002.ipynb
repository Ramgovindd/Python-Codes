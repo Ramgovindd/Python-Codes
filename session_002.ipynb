{
  "nbformat": 4,
  "nbformat_minor": 0,
  "metadata": {
    "colab": {
      "name": "session_002.ipynb",
      "provenance": []
    },
    "kernelspec": {
      "name": "python3",
      "display_name": "Python 3"
    },
    "language_info": {
      "name": "python"
    }
  },
  "cells": [
    {
      "cell_type": "markdown",
      "metadata": {
        "id": "kcJycVG_pKGo"
      },
      "source": [
        "Write a program to accept the following from the user:\n",
        "\n",
        "1. Email id \n",
        "2. Password \n",
        "\n",
        "Once accepted, print \"Authentication Successful\""
      ]
    },
    {
      "cell_type": "code",
      "metadata": {
        "colab": {
          "base_uri": "https://localhost:8080/"
        },
        "id": "rDtnCBk3pJLT",
        "outputId": "ac5801c5-a017-461e-8c90-34989048cc58"
      },
      "source": [
        "email=input(\"enter your email id\")\n",
        "\n",
        "password=int(input(\"enter your password\"))\n",
        "\n",
        "print(\"authentication successful\")"
      ],
      "execution_count": 1,
      "outputs": [
        {
          "output_type": "stream",
          "text": [
            "enter your email idaashutosh@gmail.com\n",
            "enter your password12345\n",
            "authentication successful\n"
          ],
          "name": "stdout"
        }
      ]
    },
    {
      "cell_type": "markdown",
      "metadata": {
        "id": "SGte2dR7v7gO"
      },
      "source": [
        "Mathematical Operators"
      ]
    },
    {
      "cell_type": "code",
      "metadata": {
        "id": "PEAcGM3vr3Qn"
      },
      "source": [
        "a=10\n",
        "b=3"
      ],
      "execution_count": 2,
      "outputs": []
    },
    {
      "cell_type": "code",
      "metadata": {
        "colab": {
          "base_uri": "https://localhost:8080/"
        },
        "id": "EBuu8E3wwA-t",
        "outputId": "50b977b3-5968-42f9-f095-f45d5801ab38"
      },
      "source": [
        "print(a+b)"
      ],
      "execution_count": 3,
      "outputs": [
        {
          "output_type": "stream",
          "text": [
            "13\n"
          ],
          "name": "stdout"
        }
      ]
    },
    {
      "cell_type": "code",
      "metadata": {
        "colab": {
          "base_uri": "https://localhost:8080/"
        },
        "id": "7Xkx1Bi7wCv7",
        "outputId": "9b91a6be-42d0-46d5-d018-92f92cca8820"
      },
      "source": [
        "print(a-b)"
      ],
      "execution_count": 4,
      "outputs": [
        {
          "output_type": "stream",
          "text": [
            "7\n"
          ],
          "name": "stdout"
        }
      ]
    },
    {
      "cell_type": "code",
      "metadata": {
        "colab": {
          "base_uri": "https://localhost:8080/"
        },
        "id": "kv24fDOWwE4s",
        "outputId": "22a50efc-f2ab-4d72-9db2-452f91041e52"
      },
      "source": [
        "print(a*b)"
      ],
      "execution_count": 5,
      "outputs": [
        {
          "output_type": "stream",
          "text": [
            "30\n"
          ],
          "name": "stdout"
        }
      ]
    },
    {
      "cell_type": "code",
      "metadata": {
        "colab": {
          "base_uri": "https://localhost:8080/"
        },
        "id": "kV1R7cobwG5M",
        "outputId": "3834db41-8d0b-4544-cda2-2bd02ba782a6"
      },
      "source": [
        "print(a/b)"
      ],
      "execution_count": 6,
      "outputs": [
        {
          "output_type": "stream",
          "text": [
            "3.3333333333333335\n"
          ],
          "name": "stdout"
        }
      ]
    },
    {
      "cell_type": "code",
      "metadata": {
        "colab": {
          "base_uri": "https://localhost:8080/"
        },
        "id": "EHUsG1KvwJEs",
        "outputId": "bd18603d-6df1-4408-e503-88b01222fc3c"
      },
      "source": [
        "print(a//b)"
      ],
      "execution_count": 7,
      "outputs": [
        {
          "output_type": "stream",
          "text": [
            "3\n"
          ],
          "name": "stdout"
        }
      ]
    },
    {
      "cell_type": "code",
      "metadata": {
        "colab": {
          "base_uri": "https://localhost:8080/"
        },
        "id": "zEzj_xNuwLVQ",
        "outputId": "caa3c6b5-b9c9-4e26-c755-26894405782b"
      },
      "source": [
        "print(a**b)"
      ],
      "execution_count": 8,
      "outputs": [
        {
          "output_type": "stream",
          "text": [
            "1000\n"
          ],
          "name": "stdout"
        }
      ]
    },
    {
      "cell_type": "code",
      "metadata": {
        "colab": {
          "base_uri": "https://localhost:8080/"
        },
        "id": "nWTiW9R0wQZG",
        "outputId": "c2bd750d-4aca-4ba3-b6b4-dcedf82f96bc"
      },
      "source": [
        "print(a%b)"
      ],
      "execution_count": 9,
      "outputs": [
        {
          "output_type": "stream",
          "text": [
            "1\n"
          ],
          "name": "stdout"
        }
      ]
    },
    {
      "cell_type": "markdown",
      "metadata": {
        "id": "xhaiaAgGwXLt"
      },
      "source": [
        "Operations with Strings and Lists:\n",
        "\n",
        "\n",
        "1. Concatination\n",
        "2. Indexing\n",
        "3. Slicing"
      ]
    },
    {
      "cell_type": "code",
      "metadata": {
        "id": "Y4MoMlgkwSaK"
      },
      "source": [
        "#Concatination - Strings\n",
        "a='mobile '\n",
        "b='phone'"
      ],
      "execution_count": 16,
      "outputs": []
    },
    {
      "cell_type": "code",
      "metadata": {
        "colab": {
          "base_uri": "https://localhost:8080/"
        },
        "id": "sgMjSumExsqE",
        "outputId": "cec79e20-08c0-49f1-aeec-4ce8ebb14bc0"
      },
      "source": [
        "print(a+b)"
      ],
      "execution_count": 17,
      "outputs": [
        {
          "output_type": "stream",
          "text": [
            "mobile phone\n"
          ],
          "name": "stdout"
        }
      ]
    },
    {
      "cell_type": "code",
      "metadata": {
        "id": "qJhyByG-xuFO"
      },
      "source": [
        "#Concatination - Lists\n",
        "l1=['india','china','usa']\n",
        "l2=['delhi','shanghai','new york']\n",
        "l3=['apples','mangoes','pineapples']"
      ],
      "execution_count": 20,
      "outputs": []
    },
    {
      "cell_type": "code",
      "metadata": {
        "colab": {
          "base_uri": "https://localhost:8080/"
        },
        "id": "PPgQGrVTyVi6",
        "outputId": "0d502d1f-85dc-4ec2-e793-6612d0873f96"
      },
      "source": [
        "print(l1+l2+l3)"
      ],
      "execution_count": 21,
      "outputs": [
        {
          "output_type": "stream",
          "text": [
            "['india', 'china', 'usa', 'delhi', 'shanghai', 'new york', 'apples', 'mangoes', 'pineapples']\n"
          ],
          "name": "stdout"
        }
      ]
    },
    {
      "cell_type": "code",
      "metadata": {
        "id": "ZU6K_YCQyXIN"
      },
      "source": [
        "#Indexing - Strings\n",
        "a='Desktop'"
      ],
      "execution_count": 22,
      "outputs": []
    },
    {
      "cell_type": "code",
      "metadata": {
        "colab": {
          "base_uri": "https://localhost:8080/",
          "height": 35
        },
        "id": "I1hFSEju0Thz",
        "outputId": "080da652-1a0b-4673-8521-ee1e89aa34d5"
      },
      "source": [
        "a[2]"
      ],
      "execution_count": 23,
      "outputs": [
        {
          "output_type": "execute_result",
          "data": {
            "application/vnd.google.colaboratory.intrinsic+json": {
              "type": "string"
            },
            "text/plain": [
              "'s'"
            ]
          },
          "metadata": {
            "tags": []
          },
          "execution_count": 23
        }
      ]
    },
    {
      "cell_type": "code",
      "metadata": {
        "colab": {
          "base_uri": "https://localhost:8080/",
          "height": 35
        },
        "id": "XTCvsEju0UGa",
        "outputId": "ffaecee6-6c12-46b2-e7d8-01220b043695"
      },
      "source": [
        "a[-3]"
      ],
      "execution_count": 24,
      "outputs": [
        {
          "output_type": "execute_result",
          "data": {
            "application/vnd.google.colaboratory.intrinsic+json": {
              "type": "string"
            },
            "text/plain": [
              "'t'"
            ]
          },
          "metadata": {
            "tags": []
          },
          "execution_count": 24
        }
      ]
    },
    {
      "cell_type": "code",
      "metadata": {
        "colab": {
          "base_uri": "https://localhost:8080/",
          "height": 35
        },
        "id": "FvfP5R0i0YXf",
        "outputId": "1cf3dc45-97e7-4ff5-9d84-e73040487084"
      },
      "source": [
        "a[-6]"
      ],
      "execution_count": 25,
      "outputs": [
        {
          "output_type": "execute_result",
          "data": {
            "application/vnd.google.colaboratory.intrinsic+json": {
              "type": "string"
            },
            "text/plain": [
              "'e'"
            ]
          },
          "metadata": {
            "tags": []
          },
          "execution_count": 25
        }
      ]
    },
    {
      "cell_type": "code",
      "metadata": {
        "colab": {
          "base_uri": "https://localhost:8080/"
        },
        "id": "mk1NR4dO0bBM",
        "outputId": "5148e3ce-c7b2-471c-e641-ee1d49910593"
      },
      "source": [
        "#Indexing - Lists\n",
        "print(l1)"
      ],
      "execution_count": 26,
      "outputs": [
        {
          "output_type": "stream",
          "text": [
            "['india', 'china', 'usa']\n"
          ],
          "name": "stdout"
        }
      ]
    },
    {
      "cell_type": "code",
      "metadata": {
        "colab": {
          "base_uri": "https://localhost:8080/",
          "height": 35
        },
        "id": "AUAYj8lu0hL6",
        "outputId": "187f3753-73b1-4963-fdae-e9dcee66671d"
      },
      "source": [
        "l1[2]"
      ],
      "execution_count": 27,
      "outputs": [
        {
          "output_type": "execute_result",
          "data": {
            "application/vnd.google.colaboratory.intrinsic+json": {
              "type": "string"
            },
            "text/plain": [
              "'usa'"
            ]
          },
          "metadata": {
            "tags": []
          },
          "execution_count": 27
        }
      ]
    },
    {
      "cell_type": "code",
      "metadata": {
        "colab": {
          "base_uri": "https://localhost:8080/",
          "height": 35
        },
        "id": "cywkXRFu0rQN",
        "outputId": "325aa546-ab05-4430-ff7d-16709819ee9f"
      },
      "source": [
        "l1[-2]"
      ],
      "execution_count": 28,
      "outputs": [
        {
          "output_type": "execute_result",
          "data": {
            "application/vnd.google.colaboratory.intrinsic+json": {
              "type": "string"
            },
            "text/plain": [
              "'china'"
            ]
          },
          "metadata": {
            "tags": []
          },
          "execution_count": 28
        }
      ]
    },
    {
      "cell_type": "code",
      "metadata": {
        "colab": {
          "base_uri": "https://localhost:8080/",
          "height": 35
        },
        "id": "ISLY8f3G0tM8",
        "outputId": "647054be-4f08-46d0-da8d-99c653d7b978"
      },
      "source": [
        "l1[0]"
      ],
      "execution_count": 29,
      "outputs": [
        {
          "output_type": "execute_result",
          "data": {
            "application/vnd.google.colaboratory.intrinsic+json": {
              "type": "string"
            },
            "text/plain": [
              "'india'"
            ]
          },
          "metadata": {
            "tags": []
          },
          "execution_count": 29
        }
      ]
    },
    {
      "cell_type": "code",
      "metadata": {
        "colab": {
          "base_uri": "https://localhost:8080/",
          "height": 35
        },
        "id": "U7Y4_F5w0xtm",
        "outputId": "c716e6f5-8148-4967-c220-7b622ccfb525"
      },
      "source": [
        "l1[-3]"
      ],
      "execution_count": 30,
      "outputs": [
        {
          "output_type": "execute_result",
          "data": {
            "application/vnd.google.colaboratory.intrinsic+json": {
              "type": "string"
            },
            "text/plain": [
              "'india'"
            ]
          },
          "metadata": {
            "tags": []
          },
          "execution_count": 30
        }
      ]
    },
    {
      "cell_type": "code",
      "metadata": {
        "id": "3eT5NNHq0zkj"
      },
      "source": [
        "#Slicing - Strings\n",
        "a='Indian Ocean'"
      ],
      "execution_count": 32,
      "outputs": []
    },
    {
      "cell_type": "code",
      "metadata": {
        "colab": {
          "base_uri": "https://localhost:8080/",
          "height": 35
        },
        "id": "DS2NdaWX3-mG",
        "outputId": "2552619e-ee23-4d36-fe3e-1c0019c40728"
      },
      "source": [
        "a[2:6]"
      ],
      "execution_count": 33,
      "outputs": [
        {
          "output_type": "execute_result",
          "data": {
            "application/vnd.google.colaboratory.intrinsic+json": {
              "type": "string"
            },
            "text/plain": [
              "'dian'"
            ]
          },
          "metadata": {
            "tags": []
          },
          "execution_count": 33
        }
      ]
    },
    {
      "cell_type": "code",
      "metadata": {
        "colab": {
          "base_uri": "https://localhost:8080/",
          "height": 35
        },
        "id": "2zJ1mHWT4DUH",
        "outputId": "0bd8ecf7-4628-437b-a12b-70c92ccc8fa0"
      },
      "source": [
        "a[:-3]"
      ],
      "execution_count": 34,
      "outputs": [
        {
          "output_type": "execute_result",
          "data": {
            "application/vnd.google.colaboratory.intrinsic+json": {
              "type": "string"
            },
            "text/plain": [
              "'Indian Oc'"
            ]
          },
          "metadata": {
            "tags": []
          },
          "execution_count": 34
        }
      ]
    },
    {
      "cell_type": "code",
      "metadata": {
        "colab": {
          "base_uri": "https://localhost:8080/",
          "height": 35
        },
        "id": "ATxJtSrM4HLJ",
        "outputId": "0d3fbfca-e700-4916-a33f-3ab73a231240"
      },
      "source": [
        "a[4:]"
      ],
      "execution_count": 35,
      "outputs": [
        {
          "output_type": "execute_result",
          "data": {
            "application/vnd.google.colaboratory.intrinsic+json": {
              "type": "string"
            },
            "text/plain": [
              "'an Ocean'"
            ]
          },
          "metadata": {
            "tags": []
          },
          "execution_count": 35
        }
      ]
    },
    {
      "cell_type": "code",
      "metadata": {
        "colab": {
          "base_uri": "https://localhost:8080/",
          "height": 35
        },
        "id": "MaS-0JdM4Jt0",
        "outputId": "52f751d4-5335-4024-ac30-037f46afb129"
      },
      "source": [
        "a[:]"
      ],
      "execution_count": 36,
      "outputs": [
        {
          "output_type": "execute_result",
          "data": {
            "application/vnd.google.colaboratory.intrinsic+json": {
              "type": "string"
            },
            "text/plain": [
              "'Indian Ocean'"
            ]
          },
          "metadata": {
            "tags": []
          },
          "execution_count": 36
        }
      ]
    },
    {
      "cell_type": "code",
      "metadata": {
        "colab": {
          "base_uri": "https://localhost:8080/",
          "height": 35
        },
        "id": "x2yH-NHM4Kt2",
        "outputId": "a8b0f0b1-0758-4cfa-ad70-f51d81ff0ec4"
      },
      "source": [
        "a[0:]"
      ],
      "execution_count": 37,
      "outputs": [
        {
          "output_type": "execute_result",
          "data": {
            "application/vnd.google.colaboratory.intrinsic+json": {
              "type": "string"
            },
            "text/plain": [
              "'Indian Ocean'"
            ]
          },
          "metadata": {
            "tags": []
          },
          "execution_count": 37
        }
      ]
    },
    {
      "cell_type": "code",
      "metadata": {
        "id": "7GYjJjqo4MYN"
      },
      "source": [
        "#Slicing - Lists\n",
        "l1=['india','usa',56,45,90.12,13.89]"
      ],
      "execution_count": 38,
      "outputs": []
    },
    {
      "cell_type": "code",
      "metadata": {
        "colab": {
          "base_uri": "https://localhost:8080/"
        },
        "id": "gSpDc_Oy4Z34",
        "outputId": "ebee5a2a-b1a4-4a6d-b66b-bd39152ae05c"
      },
      "source": [
        "l1[2:6]"
      ],
      "execution_count": 39,
      "outputs": [
        {
          "output_type": "execute_result",
          "data": {
            "text/plain": [
              "[56, 45, 90.12, 13.89]"
            ]
          },
          "metadata": {
            "tags": []
          },
          "execution_count": 39
        }
      ]
    },
    {
      "cell_type": "code",
      "metadata": {
        "colab": {
          "base_uri": "https://localhost:8080/"
        },
        "id": "BfCRBQqZ4g0U",
        "outputId": "1d50ba0b-e18f-47f2-813d-d82f3aa9ef6e"
      },
      "source": [
        "l1[:3]"
      ],
      "execution_count": 40,
      "outputs": [
        {
          "output_type": "execute_result",
          "data": {
            "text/plain": [
              "['india', 'usa', 56]"
            ]
          },
          "metadata": {
            "tags": []
          },
          "execution_count": 40
        }
      ]
    },
    {
      "cell_type": "code",
      "metadata": {
        "colab": {
          "base_uri": "https://localhost:8080/"
        },
        "id": "21Jmf2_s4k-l",
        "outputId": "5ac013bb-69a9-4680-f648-d15254df102a"
      },
      "source": [
        "l1[2:]"
      ],
      "execution_count": 41,
      "outputs": [
        {
          "output_type": "execute_result",
          "data": {
            "text/plain": [
              "[56, 45, 90.12, 13.89]"
            ]
          },
          "metadata": {
            "tags": []
          },
          "execution_count": 41
        }
      ]
    },
    {
      "cell_type": "code",
      "metadata": {
        "id": "4b7XNAMV4oGJ"
      },
      "source": [
        "b='United States'"
      ],
      "execution_count": 42,
      "outputs": []
    },
    {
      "cell_type": "code",
      "metadata": {
        "colab": {
          "base_uri": "https://localhost:8080/",
          "height": 35
        },
        "id": "X0s48BlM62mF",
        "outputId": "e3650966-01e9-4c0e-9b7a-c95e3ab471f5"
      },
      "source": [
        "b[2]"
      ],
      "execution_count": 43,
      "outputs": [
        {
          "output_type": "execute_result",
          "data": {
            "application/vnd.google.colaboratory.intrinsic+json": {
              "type": "string"
            },
            "text/plain": [
              "'i'"
            ]
          },
          "metadata": {
            "tags": []
          },
          "execution_count": 43
        }
      ]
    },
    {
      "cell_type": "code",
      "metadata": {
        "colab": {
          "base_uri": "https://localhost:8080/",
          "height": 35
        },
        "id": "YohWQ_jf64P0",
        "outputId": "facec7f1-c3fd-430c-f141-29d63acb11fa"
      },
      "source": [
        "b[-7]"
      ],
      "execution_count": 44,
      "outputs": [
        {
          "output_type": "execute_result",
          "data": {
            "application/vnd.google.colaboratory.intrinsic+json": {
              "type": "string"
            },
            "text/plain": [
              "' '"
            ]
          },
          "metadata": {
            "tags": []
          },
          "execution_count": 44
        }
      ]
    },
    {
      "cell_type": "code",
      "metadata": {
        "colab": {
          "base_uri": "https://localhost:8080/",
          "height": 35
        },
        "id": "JOlV0BHz65pS",
        "outputId": "e893739a-8e3d-42e3-f780-7d1895aecce2"
      },
      "source": [
        "b[4:9]"
      ],
      "execution_count": 45,
      "outputs": [
        {
          "output_type": "execute_result",
          "data": {
            "application/vnd.google.colaboratory.intrinsic+json": {
              "type": "string"
            },
            "text/plain": [
              "'ed St'"
            ]
          },
          "metadata": {
            "tags": []
          },
          "execution_count": 45
        }
      ]
    },
    {
      "cell_type": "code",
      "metadata": {
        "colab": {
          "base_uri": "https://localhost:8080/",
          "height": 35
        },
        "id": "tXFV9XlA67zC",
        "outputId": "95cc4ca6-d057-4f09-b03c-9bbd36f055cb"
      },
      "source": [
        "b[:-3]"
      ],
      "execution_count": 46,
      "outputs": [
        {
          "output_type": "execute_result",
          "data": {
            "application/vnd.google.colaboratory.intrinsic+json": {
              "type": "string"
            },
            "text/plain": [
              "'United Sta'"
            ]
          },
          "metadata": {
            "tags": []
          },
          "execution_count": 46
        }
      ]
    },
    {
      "cell_type": "code",
      "metadata": {
        "colab": {
          "base_uri": "https://localhost:8080/",
          "height": 35
        },
        "id": "ciiY92h969fb",
        "outputId": "978e9756-d935-43ee-d6c1-d2f07f146333"
      },
      "source": [
        "b[-10:]"
      ],
      "execution_count": 47,
      "outputs": [
        {
          "output_type": "execute_result",
          "data": {
            "application/vnd.google.colaboratory.intrinsic+json": {
              "type": "string"
            },
            "text/plain": [
              "'ted States'"
            ]
          },
          "metadata": {
            "tags": []
          },
          "execution_count": 47
        }
      ]
    },
    {
      "cell_type": "code",
      "metadata": {
        "colab": {
          "base_uri": "https://localhost:8080/",
          "height": 35
        },
        "id": "6v6lSqpU6_IZ",
        "outputId": "2d40a60a-1799-427a-eae7-3ef6534bbb2c"
      },
      "source": [
        "b[:]"
      ],
      "execution_count": 48,
      "outputs": [
        {
          "output_type": "execute_result",
          "data": {
            "application/vnd.google.colaboratory.intrinsic+json": {
              "type": "string"
            },
            "text/plain": [
              "'United States'"
            ]
          },
          "metadata": {
            "tags": []
          },
          "execution_count": 48
        }
      ]
    },
    {
      "cell_type": "code",
      "metadata": {
        "colab": {
          "base_uri": "https://localhost:8080/",
          "height": 35
        },
        "id": "VAPGKHuk7AZq",
        "outputId": "ead84cf6-db70-4af4-9102-fe2ec28e8d03"
      },
      "source": [
        "b[-10:-4]"
      ],
      "execution_count": 49,
      "outputs": [
        {
          "output_type": "execute_result",
          "data": {
            "application/vnd.google.colaboratory.intrinsic+json": {
              "type": "string"
            },
            "text/plain": [
              "'ted St'"
            ]
          },
          "metadata": {
            "tags": []
          },
          "execution_count": 49
        }
      ]
    },
    {
      "cell_type": "code",
      "metadata": {
        "colab": {
          "base_uri": "https://localhost:8080/",
          "height": 35
        },
        "id": "53OoXUTx7B2I",
        "outputId": "fa869624-7ec9-43b1-a9ae-35eb96c51684"
      },
      "source": [
        "b[:8]"
      ],
      "execution_count": 50,
      "outputs": [
        {
          "output_type": "execute_result",
          "data": {
            "application/vnd.google.colaboratory.intrinsic+json": {
              "type": "string"
            },
            "text/plain": [
              "'United S'"
            ]
          },
          "metadata": {
            "tags": []
          },
          "execution_count": 50
        }
      ]
    },
    {
      "cell_type": "code",
      "metadata": {
        "colab": {
          "base_uri": "https://localhost:8080/",
          "height": 35
        },
        "id": "n9AejnbY7Duz",
        "outputId": "7d020187-d611-4379-fbd6-e400dba17731"
      },
      "source": [
        "b[3:]"
      ],
      "execution_count": 51,
      "outputs": [
        {
          "output_type": "execute_result",
          "data": {
            "application/vnd.google.colaboratory.intrinsic+json": {
              "type": "string"
            },
            "text/plain": [
              "'ted States'"
            ]
          },
          "metadata": {
            "tags": []
          },
          "execution_count": 51
        }
      ]
    },
    {
      "cell_type": "markdown",
      "metadata": {
        "id": "q53wwXdm703e"
      },
      "source": [
        "Built in Functions"
      ]
    },
    {
      "cell_type": "code",
      "metadata": {
        "id": "boKbyeMy7FDI"
      },
      "source": [
        "l1=['india','russia','china','usa']"
      ],
      "execution_count": 52,
      "outputs": []
    },
    {
      "cell_type": "code",
      "metadata": {
        "id": "AJRTRSEJ8Hgg"
      },
      "source": [
        "l1.append('bhutan') #used to add an element at the end of the list"
      ],
      "execution_count": 53,
      "outputs": []
    },
    {
      "cell_type": "code",
      "metadata": {
        "colab": {
          "base_uri": "https://localhost:8080/"
        },
        "id": "p8XHGyug8RJw",
        "outputId": "bb2f093f-ee43-42fb-e58b-eb468520c507"
      },
      "source": [
        "print(l1)"
      ],
      "execution_count": 54,
      "outputs": [
        {
          "output_type": "stream",
          "text": [
            "['india', 'russia', 'china', 'usa', 'bhutan']\n"
          ],
          "name": "stdout"
        }
      ]
    },
    {
      "cell_type": "code",
      "metadata": {
        "id": "VI1flren8S_-"
      },
      "source": [
        "l1.insert(3,'bhutan') #used to add an element at the desired location - through the index value"
      ],
      "execution_count": 55,
      "outputs": []
    },
    {
      "cell_type": "code",
      "metadata": {
        "colab": {
          "base_uri": "https://localhost:8080/"
        },
        "id": "9pQN4fcZ8raG",
        "outputId": "9cb1730e-d69d-430d-ac1c-bc443611c026"
      },
      "source": [
        "print(l1)"
      ],
      "execution_count": 56,
      "outputs": [
        {
          "output_type": "stream",
          "text": [
            "['india', 'russia', 'china', 'bhutan', 'usa', 'bhutan']\n"
          ],
          "name": "stdout"
        }
      ]
    },
    {
      "cell_type": "code",
      "metadata": {
        "id": "Nha_PWMG8vzD"
      },
      "source": [
        "l1.remove('bhutan') #used to remove the first occurance of the element that has to be removed"
      ],
      "execution_count": 57,
      "outputs": []
    },
    {
      "cell_type": "code",
      "metadata": {
        "colab": {
          "base_uri": "https://localhost:8080/"
        },
        "id": "gCBWDgSE9Twt",
        "outputId": "755a131c-bec5-4b06-a48a-955cf2819384"
      },
      "source": [
        "print(l1)"
      ],
      "execution_count": 58,
      "outputs": [
        {
          "output_type": "stream",
          "text": [
            "['india', 'russia', 'china', 'usa', 'bhutan']\n"
          ],
          "name": "stdout"
        }
      ]
    },
    {
      "cell_type": "code",
      "metadata": {
        "colab": {
          "base_uri": "https://localhost:8080/",
          "height": 35
        },
        "id": "P0QSjROM9Uw8",
        "outputId": "9671922a-79dc-4f10-833d-914ff26aab9d"
      },
      "source": [
        "l1.pop(2) #used to remove the element based on index value"
      ],
      "execution_count": 59,
      "outputs": [
        {
          "output_type": "execute_result",
          "data": {
            "application/vnd.google.colaboratory.intrinsic+json": {
              "type": "string"
            },
            "text/plain": [
              "'china'"
            ]
          },
          "metadata": {
            "tags": []
          },
          "execution_count": 59
        }
      ]
    },
    {
      "cell_type": "code",
      "metadata": {
        "colab": {
          "base_uri": "https://localhost:8080/"
        },
        "id": "EbVTAWGv9x70",
        "outputId": "43ab0d82-6834-4c0a-c087-d385fd0feebd"
      },
      "source": [
        "print(l1)"
      ],
      "execution_count": 60,
      "outputs": [
        {
          "output_type": "stream",
          "text": [
            "['india', 'russia', 'usa', 'bhutan']\n"
          ],
          "name": "stdout"
        }
      ]
    },
    {
      "cell_type": "code",
      "metadata": {
        "id": "06ctqagy9zbQ"
      },
      "source": [
        "l1.extend(['machine learning', 'deep learning','statistics','ai']) #used to add multiple elements at the end of the list"
      ],
      "execution_count": 61,
      "outputs": []
    },
    {
      "cell_type": "code",
      "metadata": {
        "colab": {
          "base_uri": "https://localhost:8080/"
        },
        "id": "2r5JIECI-RvF",
        "outputId": "6a6fd4e1-9702-43ef-9ba2-295ef495a02e"
      },
      "source": [
        "print(l1)"
      ],
      "execution_count": 62,
      "outputs": [
        {
          "output_type": "stream",
          "text": [
            "['india', 'russia', 'usa', 'bhutan', 'machine learning', 'deep learning', 'statistics', 'ai']\n"
          ],
          "name": "stdout"
        }
      ]
    },
    {
      "cell_type": "code",
      "metadata": {
        "id": "3dpE9-3h-TmE"
      },
      "source": [
        "l2=[12,13,10,34,12,89,10,12,23,89,43,23]"
      ],
      "execution_count": 63,
      "outputs": []
    },
    {
      "cell_type": "code",
      "metadata": {
        "colab": {
          "base_uri": "https://localhost:8080/"
        },
        "id": "2aX22k2L-tnK",
        "outputId": "8d8bfc56-92fc-4654-86ba-d0906edb0f89"
      },
      "source": [
        "max(l2) #used to show the largest element of the list"
      ],
      "execution_count": 64,
      "outputs": [
        {
          "output_type": "execute_result",
          "data": {
            "text/plain": [
              "89"
            ]
          },
          "metadata": {
            "tags": []
          },
          "execution_count": 64
        }
      ]
    },
    {
      "cell_type": "code",
      "metadata": {
        "colab": {
          "base_uri": "https://localhost:8080/"
        },
        "id": "4AxhLabi-_s1",
        "outputId": "a10ca038-d87c-4159-ebd9-f7197ad66b01"
      },
      "source": [
        "min(l2) #used to show the smallest element of the list"
      ],
      "execution_count": 65,
      "outputs": [
        {
          "output_type": "execute_result",
          "data": {
            "text/plain": [
              "10"
            ]
          },
          "metadata": {
            "tags": []
          },
          "execution_count": 65
        }
      ]
    },
    {
      "cell_type": "code",
      "metadata": {
        "colab": {
          "base_uri": "https://localhost:8080/"
        },
        "id": "_-JSoWvg_FAV",
        "outputId": "9ab199dc-5a29-462c-ea23-f7951703e197"
      },
      "source": [
        "sum(l2) #used to add all the elements of the list"
      ],
      "execution_count": 66,
      "outputs": [
        {
          "output_type": "execute_result",
          "data": {
            "text/plain": [
              "370"
            ]
          },
          "metadata": {
            "tags": []
          },
          "execution_count": 66
        }
      ]
    },
    {
      "cell_type": "code",
      "metadata": {
        "id": "91496TuB_ScH"
      },
      "source": [
        "l2.sort() #used to arrange the elements of the list in ascending order"
      ],
      "execution_count": 68,
      "outputs": []
    },
    {
      "cell_type": "code",
      "metadata": {
        "colab": {
          "base_uri": "https://localhost:8080/"
        },
        "id": "Twq1IEZX_iZ4",
        "outputId": "c56e710a-6d57-469c-da78-cdbfe3c5cd16"
      },
      "source": [
        "print(l2)"
      ],
      "execution_count": 69,
      "outputs": [
        {
          "output_type": "stream",
          "text": [
            "[10, 10, 12, 12, 12, 13, 23, 23, 34, 43, 89, 89]\n"
          ],
          "name": "stdout"
        }
      ]
    },
    {
      "cell_type": "code",
      "metadata": {
        "colab": {
          "base_uri": "https://localhost:8080/"
        },
        "id": "VqqunPvM_lFK",
        "outputId": "88b8397c-a3ae-4de2-d8bf-3090ace8f2a7"
      },
      "source": [
        "len(l2) #used to count the total number of elements in the list"
      ],
      "execution_count": 70,
      "outputs": [
        {
          "output_type": "execute_result",
          "data": {
            "text/plain": [
              "12"
            ]
          },
          "metadata": {
            "tags": []
          },
          "execution_count": 70
        }
      ]
    },
    {
      "cell_type": "code",
      "metadata": {
        "colab": {
          "base_uri": "https://localhost:8080/"
        },
        "id": "KS4Czsrb_zau",
        "outputId": "3f9ee54a-abe9-4470-97cb-c8784cc34a89"
      },
      "source": [
        "l2.count(12) #used to count the occurance of a particular element in the list"
      ],
      "execution_count": 71,
      "outputs": [
        {
          "output_type": "execute_result",
          "data": {
            "text/plain": [
              "3"
            ]
          },
          "metadata": {
            "tags": []
          },
          "execution_count": 71
        }
      ]
    },
    {
      "cell_type": "code",
      "metadata": {
        "colab": {
          "base_uri": "https://localhost:8080/"
        },
        "id": "gHbjpscFAEgQ",
        "outputId": "0f067abd-1a43-4186-e2d5-21f174920ff8"
      },
      "source": [
        "l2.count(89)"
      ],
      "execution_count": 72,
      "outputs": [
        {
          "output_type": "execute_result",
          "data": {
            "text/plain": [
              "2"
            ]
          },
          "metadata": {
            "tags": []
          },
          "execution_count": 72
        }
      ]
    },
    {
      "cell_type": "code",
      "metadata": {
        "colab": {
          "base_uri": "https://localhost:8080/"
        },
        "id": "tOA8eK13AHYC",
        "outputId": "2a3d3436-83bd-4003-8dbb-a87249e7af2d"
      },
      "source": [
        "l2.count(23)"
      ],
      "execution_count": 73,
      "outputs": [
        {
          "output_type": "execute_result",
          "data": {
            "text/plain": [
              "2"
            ]
          },
          "metadata": {
            "tags": []
          },
          "execution_count": 73
        }
      ]
    },
    {
      "cell_type": "code",
      "metadata": {
        "id": "r8ArPtC1AJ6M"
      },
      "source": [
        ""
      ],
      "execution_count": null,
      "outputs": []
    }
  ]
}